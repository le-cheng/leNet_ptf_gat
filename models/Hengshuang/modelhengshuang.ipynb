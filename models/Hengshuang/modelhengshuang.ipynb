{
 "cells": [
  {
   "cell_type": "code",
   "execution_count": 1,
   "metadata": {},
   "outputs": [],
   "source": [
    "import torch\n",
    "import torch.nn as nn\n",
    "import torch.nn.functional as F\n",
    "from time import time\n",
    "import numpy as np"
   ]
  },
  {
   "cell_type": "code",
   "execution_count": 2,
   "metadata": {},
   "outputs": [
    {
     "data": {
      "text/plain": [
       "<torch._C.Generator at 0x7f0438173890>"
      ]
     },
     "execution_count": 2,
     "metadata": {},
     "output_type": "execute_result"
    }
   ],
   "source": [
    "torch.manual_seed(1234)"
   ]
  },
  {
   "cell_type": "code",
   "execution_count": 3,
   "metadata": {},
   "outputs": [],
   "source": [
    "def square_distance(src, dst):\n",
    "    \"\"\"\n",
    "    Calculate Euclid distance between each two points.\n",
    "    计算每两个点之间的欧几里得距离。\n",
    "    dist = (xn - xm)^2 + (yn - ym)^2 + (zn - zm)^2\n",
    "         = sum(src**2,dim=-1)+sum(dst**2,dim=-1)-2*src^T*dst\n",
    "    Input:\n",
    "        src: source points, [B, N, C]\n",
    "        dst: target points, [B, M, C]\n",
    "    Output:\n",
    "        dist: per-point square distance, [B, N, M]\n",
    "    \"\"\"\n",
    "    return torch.sum((src[:, :, None] - dst[:, None]) ** 2, dim=-1)\n",
    "\n",
    "def index_points(points, idx):\n",
    "    \"\"\"\n",
    "    Input:\n",
    "        points: input points data, [B, N, C]\n",
    "        idx: sample index data, [B, S, [K]]\n",
    "    Return:\n",
    "        new_points:, indexed points data, [B, S, [K], C]\n",
    "    \"\"\"\n",
    "    raw_size = idx.size()\n",
    "    idx = idx.reshape(raw_size[0], -1)\n",
    "    res = torch.gather(points, 1, idx[..., None].expand(-1, -1, points.size(-1)))\n",
    "    return res.reshape(*raw_size, -1)"
   ]
  },
  {
   "cell_type": "code",
   "execution_count": 4,
   "metadata": {},
   "outputs": [],
   "source": [
    "d_model=512\n",
    "d_points = 32\n",
    "fc1 = nn.Linear(d_points, d_model)\n",
    "fc2 = nn.Linear(d_model, d_points)\n",
    "fc_delta = nn.Sequential(\n",
    "    nn.Linear(3, d_model),\n",
    "    nn.ReLU(),\n",
    "    nn.Linear(d_model, d_model)\n",
    ")\n",
    "fc_gamma = nn.Sequential(\n",
    "    nn.Linear(d_model, d_model),\n",
    "    nn.ReLU(),\n",
    "    nn.Linear(d_model, d_model)\n",
    ")\n",
    "w_qs = nn.Linear(d_model, d_model, bias=False)\n",
    "w_ks = nn.Linear(d_model, d_model, bias=False)\n",
    "w_vs = nn.Linear(d_model, d_model, bias=False)\n",
    "k = 16"
   ]
  },
  {
   "cell_type": "markdown",
   "metadata": {},
   "source": [
    "# start"
   ]
  },
  {
   "cell_type": "code",
   "execution_count": 5,
   "metadata": {},
   "outputs": [
    {
     "name": "stdout",
     "output_type": "stream",
     "text": [
      "torch.Size([8, 1024, 3])\n"
     ]
    }
   ],
   "source": [
    "random_seed = 1234\n",
    "torch.manual_seed(random_seed)\n",
    "point = torch.randn(8,1024,6)\n",
    "xyz = point[..., :3]\n",
    "print(xyz.shape)"
   ]
  },
  {
   "cell_type": "code",
   "execution_count": 6,
   "metadata": {},
   "outputs": [
    {
     "name": "stdout",
     "output_type": "stream",
     "text": [
      "torch.Size([8, 1024, 32])\n"
     ]
    }
   ],
   "source": [
    "fcc1 = nn.Sequential(\n",
    "    nn.Linear(6, 32), \n",
    "    nn.ReLU(),\n",
    "    nn.Linear(32, 32) # point [16,1024,6] to [16,1024,32]\n",
    "    )\n",
    "features=fcc1(point)\n",
    "print(features.shape)"
   ]
  },
  {
   "cell_type": "code",
   "execution_count": 7,
   "metadata": {},
   "outputs": [
    {
     "name": "stdout",
     "output_type": "stream",
     "text": [
      "torch.Size([8, 1024, 1024])\n"
     ]
    }
   ],
   "source": [
    "dists = square_distance(xyz, xyz)# 计算点距离 逐个相减\n",
    "    #dist = (xn - xm)^2 + (yn - ym)^2 + (zn - zm)^2\n",
    "    #     = sum(src**2,dim=-1)+sum(dst**2,dim=-1)-2*src^T*dst\n",
    "print(dists.shape)"
   ]
  },
  {
   "cell_type": "code",
   "execution_count": 8,
   "metadata": {},
   "outputs": [
    {
     "name": "stdout",
     "output_type": "stream",
     "text": [
      "torch.Size([8, 1024, 16])\n"
     ]
    }
   ],
   "source": [
    "knn_idx = dists.argsort()[:, :, :k]  # b x n x k 排序取前k个\n",
    "print(knn_idx.shape)"
   ]
  },
  {
   "cell_type": "code",
   "execution_count": 9,
   "metadata": {},
   "outputs": [
    {
     "name": "stdout",
     "output_type": "stream",
     "text": [
      "torch.Size([8, 1024, 16, 3])\n"
     ]
    }
   ],
   "source": [
    "knn_xyz = index_points(xyz, knn_idx)\n",
    "print(knn_xyz.shape)"
   ]
  },
  {
   "cell_type": "code",
   "execution_count": 10,
   "metadata": {},
   "outputs": [
    {
     "name": "stdout",
     "output_type": "stream",
     "text": [
      "torch.Size([8, 1024, 512])\n",
      "torch.Size([8, 1024, 512])\n",
      "torch.Size([8, 1024, 16, 512])\n",
      "torch.Size([8, 1024, 16, 512])\n"
     ]
    }
   ],
   "source": [
    "pre = features\n",
    "x = fc1(features)   #features [16,1024,32] to [16,1024,512]\n",
    "print(x.shape)\n",
    "q, k, v = w_qs(x), index_points(w_ks(x), knn_idx), index_points(w_vs(x), knn_idx)\n",
    "print(q.shape)\n",
    "print(k.shape)\n",
    "print(v.shape)"
   ]
  },
  {
   "cell_type": "code",
   "execution_count": 11,
   "metadata": {},
   "outputs": [
    {
     "data": {
      "text/plain": [
       "512"
      ]
     },
     "execution_count": 11,
     "metadata": {},
     "output_type": "execute_result"
    }
   ],
   "source": [
    "k.size(-1)"
   ]
  },
  {
   "cell_type": "code",
   "execution_count": 12,
   "metadata": {},
   "outputs": [
    {
     "data": {
      "text/plain": [
       "22.627416997969522"
      ]
     },
     "execution_count": 12,
     "metadata": {},
     "output_type": "execute_result"
    }
   ],
   "source": [
    "np.sqrt(k.size(-1))"
   ]
  },
  {
   "cell_type": "code",
   "execution_count": 13,
   "metadata": {},
   "outputs": [
    {
     "name": "stdout",
     "output_type": "stream",
     "text": [
      "torch.Size([8, 1024, 16, 512])\n",
      "torch.Size([8, 1024, 16, 3])\n"
     ]
    }
   ],
   "source": [
    "pos_enc = fc_delta(xyz[:, :, None] - knn_xyz)  # b x n x k x f  邻居向量\n",
    "print(pos_enc.shape)\n",
    "print((xyz[:, :, None] - knn_xyz).shape)"
   ]
  },
  {
   "cell_type": "code",
   "execution_count": 14,
   "metadata": {},
   "outputs": [
    {
     "name": "stdout",
     "output_type": "stream",
     "text": [
      "torch.Size([8, 1024, 16, 512])\n",
      "torch.Size([8, 1024, 16, 512])\n"
     ]
    }
   ],
   "source": [
    "attn = fc_gamma(q[:, :, None] - k + pos_enc)\n",
    "print(attn.shape)\n",
    "attn = F.softmax(attn / np.sqrt(k.size(-1)), dim=-2)  # b x n x k x f\n",
    "print(attn.shape)"
   ]
  },
  {
   "cell_type": "code",
   "execution_count": 15,
   "metadata": {},
   "outputs": [
    {
     "name": "stdout",
     "output_type": "stream",
     "text": [
      "torch.Size([8, 1024, 512])\n",
      "torch.Size([8, 1024, 32])\n"
     ]
    }
   ],
   "source": [
    "res = torch.einsum('bmnf,bmnf->bmf', attn, v + pos_enc)\n",
    "print(res.shape)\n",
    "res = fc2(res) + pre\n",
    "print(res.shape)"
   ]
  },
  {
   "cell_type": "code",
   "execution_count": null,
   "metadata": {},
   "outputs": [],
   "source": []
  },
  {
   "cell_type": "code",
   "execution_count": null,
   "metadata": {},
   "outputs": [],
   "source": [
    "torch.manual_seed(1234)\n",
    "point1 = torch.randn(2,4,3)\n",
    "print(point1)\n",
    "print(point1[:, :, None].shape)\n",
    "# print(point[:, :, None])\n",
    "print(point1[:, None].shape)\n",
    "# print(point[:, None])\n",
    "print((point1[:, :, None] - point1[:, None]).shape)\n",
    "# print(point[:, :, None] - point[:, None])\n",
    "print(torch.sum((point1[:, :, None] - point1[:, None]) ** 2, dim=-1).shape)"
   ]
  },
  {
   "cell_type": "code",
   "execution_count": 2,
   "metadata": {},
   "outputs": [
    {
     "data": {
      "text/plain": [
       "tensor([[[[-0.1117, -0.4966],\n",
       "          [ 0.1631, -0.8817],\n",
       "          [ 0.0539,  0.6684]],\n",
       "\n",
       "         [[-0.0597, -0.4675],\n",
       "          [-0.2153,  0.8840],\n",
       "          [-0.7584, -0.3689]],\n",
       "\n",
       "         [[-0.3424, -1.4020],\n",
       "          [ 0.3206, -1.0219],\n",
       "          [ 0.7988, -0.0923]],\n",
       "\n",
       "         [[-0.7049, -1.6024],\n",
       "          [ 0.2891,  0.4899],\n",
       "          [-0.3853, -0.7120]]],\n",
       "\n",
       "\n",
       "        [[[-0.1706, -1.4594],\n",
       "          [ 0.2207,  0.2463],\n",
       "          [-1.3248,  0.6970]],\n",
       "\n",
       "         [[-0.6631,  1.2158],\n",
       "          [-1.4949,  0.8810],\n",
       "          [-1.1786, -0.9340]],\n",
       "\n",
       "         [[-0.5675, -0.2772],\n",
       "          [-2.1834,  0.3668],\n",
       "          [ 0.9380,  0.0078]],\n",
       "\n",
       "         [[-0.3139, -1.1567],\n",
       "          [ 1.8409, -1.0174],\n",
       "          [ 1.2192,  0.1601]]]])"
      ]
     },
     "execution_count": 2,
     "metadata": {},
     "output_type": "execute_result"
    }
   ],
   "source": [
    "torch.manual_seed(1234)\n",
    "x = torch.randn(2,4,3,2)\n",
    "x"
   ]
  },
  {
   "cell_type": "code",
   "execution_count": 3,
   "metadata": {},
   "outputs": [],
   "source": [
    "x = torch.max(x, 2)[0]"
   ]
  },
  {
   "cell_type": "code",
   "execution_count": 4,
   "metadata": {},
   "outputs": [
    {
     "data": {
      "text/plain": [
       "tensor([[[ 0.1631,  0.6684],\n",
       "         [-0.0597,  0.8840],\n",
       "         [ 0.7988, -0.0923],\n",
       "         [ 0.2891,  0.4899]],\n",
       "\n",
       "        [[ 0.2207,  0.6970],\n",
       "         [-0.6631,  1.2158],\n",
       "         [ 0.9380,  0.3668],\n",
       "         [ 1.8409,  0.1601]]])"
      ]
     },
     "execution_count": 4,
     "metadata": {},
     "output_type": "execute_result"
    }
   ],
   "source": [
    "x"
   ]
  },
  {
   "cell_type": "markdown",
   "metadata": {},
   "source": [
    "# BN"
   ]
  },
  {
   "cell_type": "code",
   "execution_count": 3,
   "metadata": {},
   "outputs": [],
   "source": [
    "# With Learnable Parameters\n",
    "m = nn.BatchNorm1d(4)\n",
    "# Without Learnable Parameters\n",
    "# m = nn.BatchNorm1d(4, affine=False)"
   ]
  },
  {
   "cell_type": "code",
   "execution_count": 2,
   "metadata": {},
   "outputs": [
    {
     "data": {
      "text/plain": [
       "tensor([[[ 1.3339e+00, -1.2772e+00,  1.5149e+00],\n",
       "         [ 1.2043e+00,  8.9255e-05,  4.7879e-01],\n",
       "         [-3.8901e-01,  3.0105e-03,  8.9851e-01],\n",
       "         [-2.1315e+00, -1.1159e-01,  3.0682e-01]],\n",
       "\n",
       "        [[-6.6094e-01, -5.6356e-01,  2.0013e+00],\n",
       "         [-5.1532e-01,  1.1222e+00,  5.8444e-01],\n",
       "         [ 1.1154e+00, -1.7638e+00, -2.7672e-01],\n",
       "         [-1.3785e+00,  1.9836e-01, -6.8913e-01]]])"
      ]
     },
     "execution_count": 2,
     "metadata": {},
     "output_type": "execute_result"
    }
   ],
   "source": [
    "input = torch.randn(2, 4, 3)\n",
    "input"
   ]
  },
  {
   "cell_type": "code",
   "execution_count": null,
   "metadata": {},
   "outputs": [],
   "source": [
    "output = m(input)\n",
    "output"
   ]
  },
  {
   "cell_type": "markdown",
   "metadata": {},
   "source": [
    "# 池化"
   ]
  },
  {
   "cell_type": "code",
   "execution_count": 10,
   "metadata": {},
   "outputs": [],
   "source": [
    "import torch\n",
    "import torch.nn as nn\n",
    "a=torch.ones(2,3,4)\n",
    "a[0,1,2]=0"
   ]
  },
  {
   "cell_type": "code",
   "execution_count": 11,
   "metadata": {},
   "outputs": [
    {
     "data": {
      "text/plain": [
       "tensor([[[1., 1., 1., 1.],\n",
       "         [1., 1., 0., 1.],\n",
       "         [1., 1., 1., 1.]],\n",
       "\n",
       "        [[1., 1., 1., 1.],\n",
       "         [1., 1., 1., 1.],\n",
       "         [1., 1., 1., 1.]]])"
      ]
     },
     "execution_count": 11,
     "metadata": {},
     "output_type": "execute_result"
    }
   ],
   "source": [
    "a"
   ]
  },
  {
   "cell_type": "code",
   "execution_count": 14,
   "metadata": {},
   "outputs": [
    {
     "data": {
      "text/plain": [
       "tensor([[[1.0000, 1.0000, 1.0000, 1.0000, 1.0000],\n",
       "         [1.0000, 1.0000, 0.5000, 0.5000, 1.0000],\n",
       "         [1.0000, 1.0000, 1.0000, 1.0000, 1.0000]],\n",
       "\n",
       "        [[1.0000, 1.0000, 1.0000, 1.0000, 1.0000],\n",
       "         [1.0000, 1.0000, 1.0000, 1.0000, 1.0000],\n",
       "         [1.0000, 1.0000, 1.0000, 1.0000, 1.0000]]])"
      ]
     },
     "execution_count": 14,
     "metadata": {},
     "output_type": "execute_result"
    }
   ],
   "source": [
    "nn.AdaptiveAvgPool1d(5)(a)"
   ]
  },
  {
   "cell_type": "code",
   "execution_count": 15,
   "metadata": {},
   "outputs": [
    {
     "data": {
      "text/plain": [
       "torch.Size([2, 3, 5])"
      ]
     },
     "execution_count": 15,
     "metadata": {},
     "output_type": "execute_result"
    }
   ],
   "source": [
    "nn.AdaptiveAvgPool1d(5)(a).shape"
   ]
  },
  {
   "cell_type": "code",
   "execution_count": 27,
   "metadata": {},
   "outputs": [
    {
     "data": {
      "text/plain": [
       "tensor([[[1.0000],\n",
       "         [0.7500],\n",
       "         [1.0000]],\n",
       "\n",
       "        [[1.0000],\n",
       "         [1.0000],\n",
       "         [1.0000]]])"
      ]
     },
     "execution_count": 27,
     "metadata": {},
     "output_type": "execute_result"
    }
   ],
   "source": [
    "b = nn.AdaptiveAvgPool1d(1)(a)\n",
    "b"
   ]
  },
  {
   "cell_type": "code",
   "execution_count": 32,
   "metadata": {},
   "outputs": [
    {
     "data": {
      "text/plain": [
       "torch.Size([2, 3, 1])"
      ]
     },
     "execution_count": 32,
     "metadata": {},
     "output_type": "execute_result"
    }
   ],
   "source": [
    "b.shape"
   ]
  },
  {
   "cell_type": "code",
   "execution_count": 41,
   "metadata": {},
   "outputs": [
    {
     "data": {
      "text/plain": [
       "torch.Size([2, 3])"
      ]
     },
     "execution_count": 41,
     "metadata": {},
     "output_type": "execute_result"
    }
   ],
   "source": [
    "b.squeeze(-1).shape"
   ]
  },
  {
   "cell_type": "code",
   "execution_count": 40,
   "metadata": {},
   "outputs": [
    {
     "data": {
      "text/plain": [
       "Flatten(\n",
       "  start_dim=tensor([[[1.0000],\n",
       "           [0.7500],\n",
       "           [1.0000]],\n",
       "  \n",
       "          [[1.0000],\n",
       "           [1.0000],\n",
       "           [1.0000]]]), end_dim=-1\n",
       ")"
      ]
     },
     "execution_count": 40,
     "metadata": {},
     "output_type": "execute_result"
    }
   ],
   "source": [
    "k = nn.Flatten(b)\n",
    "k"
   ]
  },
  {
   "cell_type": "code",
   "execution_count": 33,
   "metadata": {},
   "outputs": [
    {
     "data": {
      "text/plain": [
       "torch.Size([2, 3])"
      ]
     },
     "execution_count": 33,
     "metadata": {},
     "output_type": "execute_result"
    }
   ],
   "source": [
    "b.view(2,3).shape"
   ]
  },
  {
   "cell_type": "code",
   "execution_count": 17,
   "metadata": {},
   "outputs": [
    {
     "data": {
      "text/plain": [
       "torch.Size([2, 3, 2])"
      ]
     },
     "execution_count": 17,
     "metadata": {},
     "output_type": "execute_result"
    }
   ],
   "source": [
    "nn.AdaptiveAvgPool1d(2)(a).shape"
   ]
  },
  {
   "cell_type": "markdown",
   "metadata": {},
   "source": [
    "## max"
   ]
  },
  {
   "cell_type": "code",
   "execution_count": 46,
   "metadata": {},
   "outputs": [
    {
     "data": {
      "text/plain": [
       "tensor([[[[ 3.1482e-01,  1.3892e-02, -1.1193e+00],\n",
       "          [ 1.0446e+00, -7.3216e-01, -1.6389e-05]],\n",
       "\n",
       "         [[ 5.4959e-01, -1.1447e+00,  5.2245e-01],\n",
       "          [ 5.9504e-01,  8.2466e-02,  6.9690e-01]]],\n",
       "\n",
       "\n",
       "        [[[-9.7726e-01,  4.2012e-01, -6.1108e-01],\n",
       "          [ 4.2146e-01,  1.5944e+00,  2.2480e+00]],\n",
       "\n",
       "         [[-1.0624e+00, -8.8576e-01,  1.0112e+00],\n",
       "          [ 1.1669e+00, -8.0493e-01,  1.6379e+00]]]])"
      ]
     },
     "execution_count": 46,
     "metadata": {},
     "output_type": "execute_result"
    }
   ],
   "source": [
    "input = torch.randn(2, 2, 2,3)\n",
    "input"
   ]
  },
  {
   "cell_type": "code",
   "execution_count": 43,
   "metadata": {},
   "outputs": [],
   "source": [
    "pool = nn.MaxPool1d(5)"
   ]
  },
  {
   "cell_type": "code",
   "execution_count": 48,
   "metadata": {},
   "outputs": [
    {
     "name": "stdout",
     "output_type": "stream",
     "text": [
      "torch.Size([2, 2, 3])\n",
      "torch.Size([2, 2, 3])\n"
     ]
    }
   ],
   "source": [
    "for k in input:\n",
    "    print(k.shape)"
   ]
  },
  {
   "cell_type": "code",
   "execution_count": null,
   "metadata": {},
   "outputs": [],
   "source": [
    "output = pool(input)\n",
    "output"
   ]
  },
  {
   "cell_type": "markdown",
   "metadata": {},
   "source": []
  },
  {
   "cell_type": "code",
   "execution_count": 6,
   "metadata": {},
   "outputs": [
    {
     "name": "stdout",
     "output_type": "stream",
     "text": [
      "tensor([[[[-0.9360, -1.1713,  0.3245],\n",
      "          [-0.5693,  0.0517,  1.3003]],\n",
      "\n",
      "         [[ 0.0128, -0.0502, -0.8512],\n",
      "          [-0.6419, -1.2006,  0.5811]]],\n",
      "\n",
      "\n",
      "        [[[-0.2277, -0.7041,  0.1951],\n",
      "          [-0.3848, -1.7010,  0.4325]],\n",
      "\n",
      "         [[-1.1343,  0.0304, -0.7306],\n",
      "          [ 2.1412, -0.4824,  0.9183]]]])\n",
      "tensor([[[[0.3245],\n",
      "          [1.3003]],\n",
      "\n",
      "         [[0.0128],\n",
      "          [0.5811]]],\n",
      "\n",
      "\n",
      "        [[[0.1951],\n",
      "          [0.4325]],\n",
      "\n",
      "         [[0.0304],\n",
      "          [2.1412]]]])\n"
     ]
    }
   ],
   "source": [
    "import torch\n",
    "import torch.nn as nn\n",
    "from torch.autograd import Variable\n",
    "\n",
    "m = nn.MaxPool2d((1,3))\n",
    "input = Variable(torch.randn(2,2, 2, 3))\n",
    "output = m(input)\n",
    "\n",
    "print(input)\n",
    "print(output)"
   ]
  },
  {
   "cell_type": "code",
   "execution_count": 8,
   "metadata": {},
   "outputs": [
    {
     "name": "stdout",
     "output_type": "stream",
     "text": [
      "0\n",
      "1\n"
     ]
    }
   ],
   "source": [
    "for j in range(2):\n",
    "    print(j)"
   ]
  }
 ],
 "metadata": {
  "interpreter": {
   "hash": "cc43281661763e45bb3fb5925e0cd632a4bd4422bbf06d07dba6dc2083cd4996"
  },
  "kernelspec": {
   "display_name": "Python 3.7.11 64-bit ('ptf': conda)",
   "language": "python",
   "name": "python3"
  },
  "language_info": {
   "codemirror_mode": {
    "name": "ipython",
    "version": 3
   },
   "file_extension": ".py",
   "mimetype": "text/x-python",
   "name": "python",
   "nbconvert_exporter": "python",
   "pygments_lexer": "ipython3",
   "version": "3.7.11"
  },
  "orig_nbformat": 4
 },
 "nbformat": 4,
 "nbformat_minor": 2
}
