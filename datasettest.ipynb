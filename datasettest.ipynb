{
 "cells": [
  {
   "cell_type": "markdown",
   "metadata": {},
   "source": [
    "# dataset测试"
   ]
  },
  {
   "cell_type": "code",
   "execution_count": 19,
   "metadata": {},
   "outputs": [
    {
     "name": "stdout",
     "output_type": "stream",
     "text": [
      "The size of test data is 2468\n",
      "2468\n",
      "1024\n",
      "1\n"
     ]
    },
    {
     "data": {
      "text/plain": [
       "array([7], dtype=int32)"
      ]
     },
     "execution_count": 19,
     "metadata": {},
     "output_type": "execute_result"
    }
   ],
   "source": [
    "from dataset import ModelNetDataLoader\n",
    "from torch.utils.data import DataLoader\n",
    "\n",
    "DATA_PATH = 'data/modelnet40_normal_resampled/'\n",
    "TRAIN_DATASET = ModelNetDataLoader(\n",
    "    root=DATA_PATH, npoint=1024, \n",
    "    split='test' , normal_channel=True, classes=40)\n",
    "\n",
    "#os.environ[\"CUDA_VISIBLE_DEVICES\"] = '0'\n",
    "print(len(TRAIN_DATASET))\n",
    "print(len(TRAIN_DATASET[500][0]))\n",
    "print(len(TRAIN_DATASET[500][1]))\n",
    "TRAIN_DATASET[500][1]"
   ]
  },
  {
   "cell_type": "code",
   "execution_count": 2,
   "metadata": {},
   "outputs": [
    {
     "ename": "ModuleNotFoundError",
     "evalue": "No module named 'cv2'",
     "output_type": "error",
     "traceback": [
      "\u001b[0;31m---------------------------------------------------------------------------\u001b[0m",
      "\u001b[0;31mModuleNotFoundError\u001b[0m                       Traceback (most recent call last)",
      "\u001b[0;32m/tmp/ipykernel_3035/2851117400.py\u001b[0m in \u001b[0;36m<module>\u001b[0;34m\u001b[0m\n\u001b[0;32m----> 1\u001b[0;31m \u001b[0;32mfrom\u001b[0m \u001b[0mvisualizer\u001b[0m\u001b[0;34m.\u001b[0m\u001b[0mshow3d_balls\u001b[0m \u001b[0;32mimport\u001b[0m \u001b[0mshowpoints\u001b[0m\u001b[0;34m,\u001b[0m\u001b[0mcmap\u001b[0m\u001b[0;34m\u001b[0m\u001b[0;34m\u001b[0m\u001b[0m\n\u001b[0m\u001b[1;32m      2\u001b[0m \u001b[0;31m# from ShapeNetDataLoader import PartNormalDataset\u001b[0m\u001b[0;34m\u001b[0m\u001b[0;34m\u001b[0m\u001b[0;34m\u001b[0m\u001b[0m\n\u001b[1;32m      3\u001b[0m \u001b[0mroot\u001b[0m \u001b[0;34m=\u001b[0m \u001b[0;34m'../data/shapenetcore_partanno_segmentation_benchmark_v0_normal/'\u001b[0m\u001b[0;34m\u001b[0m\u001b[0;34m\u001b[0m\u001b[0m\n\u001b[1;32m      4\u001b[0m \u001b[0mdataset\u001b[0m \u001b[0;34m=\u001b[0m \u001b[0mModelNetDataLoader\u001b[0m\u001b[0;34m(\u001b[0m\u001b[0mroot\u001b[0m \u001b[0;34m=\u001b[0m \u001b[0mroot\u001b[0m\u001b[0;34m,\u001b[0m \u001b[0mnpoints\u001b[0m\u001b[0;34m=\u001b[0m\u001b[0;36m2048\u001b[0m\u001b[0;34m,\u001b[0m \u001b[0msplit\u001b[0m\u001b[0;34m=\u001b[0m\u001b[0;34m'test'\u001b[0m\u001b[0;34m,\u001b[0m \u001b[0mnormal_channel\u001b[0m\u001b[0;34m=\u001b[0m\u001b[0;32mFalse\u001b[0m\u001b[0;34m)\u001b[0m\u001b[0;34m\u001b[0m\u001b[0;34m\u001b[0m\u001b[0m\n\u001b[1;32m      5\u001b[0m \u001b[0midx\u001b[0m \u001b[0;34m=\u001b[0m \u001b[0mnp\u001b[0m\u001b[0;34m.\u001b[0m\u001b[0mrandom\u001b[0m\u001b[0;34m.\u001b[0m\u001b[0mrandint\u001b[0m\u001b[0;34m(\u001b[0m\u001b[0;36m0\u001b[0m\u001b[0;34m,\u001b[0m \u001b[0mlen\u001b[0m\u001b[0;34m(\u001b[0m\u001b[0mdataset\u001b[0m\u001b[0;34m)\u001b[0m\u001b[0;34m)\u001b[0m\u001b[0;34m\u001b[0m\u001b[0;34m\u001b[0m\u001b[0m\n",
      "\u001b[0;32m~/workspace/leNet_ptf/visualizer/show3d_balls.py\u001b[0m in \u001b[0;36m<module>\u001b[0;34m\u001b[0m\n\u001b[1;32m      3\u001b[0m \u001b[0;32mimport\u001b[0m \u001b[0mnumpy\u001b[0m \u001b[0;32mas\u001b[0m \u001b[0mnp\u001b[0m\u001b[0;34m\u001b[0m\u001b[0;34m\u001b[0m\u001b[0m\n\u001b[1;32m      4\u001b[0m \u001b[0;32mimport\u001b[0m \u001b[0mctypes\u001b[0m \u001b[0;32mas\u001b[0m \u001b[0mct\u001b[0m\u001b[0;34m\u001b[0m\u001b[0;34m\u001b[0m\u001b[0m\n\u001b[0;32m----> 5\u001b[0;31m \u001b[0;32mimport\u001b[0m \u001b[0mcv2\u001b[0m\u001b[0;34m\u001b[0m\u001b[0;34m\u001b[0m\u001b[0m\n\u001b[0m\u001b[1;32m      6\u001b[0m \u001b[0;32mimport\u001b[0m \u001b[0msys\u001b[0m\u001b[0;34m\u001b[0m\u001b[0;34m\u001b[0m\u001b[0m\n\u001b[1;32m      7\u001b[0m \u001b[0;32mimport\u001b[0m \u001b[0mos\u001b[0m\u001b[0;34m\u001b[0m\u001b[0;34m\u001b[0m\u001b[0m\n",
      "\u001b[0;31mModuleNotFoundError\u001b[0m: No module named 'cv2'"
     ]
    }
   ],
   "source": [
    "from visualizer.show3d_balls import showpoints,cmap\n",
    "# from ShapeNetDataLoader import PartNormalDataset\n",
    "root = '../data/shapenetcore_partanno_segmentation_benchmark_v0_normal/'\n",
    "dataset = ModelNetDataLoader(root = root, npoints=2048, split='test', normal_channel=False)\n",
    "idx = np.random.randint(0, len(dataset))\n",
    "data = dataset[idx]\n",
    "point_set, _, seg = data\n",
    "choice = np.random.choice(point_set.shape[0], 2048, replace=True)\n",
    "point_set, seg = point_set[choice, :], seg[choice]\n",
    "seg = seg - seg.min()\n",
    "gt = cmap[seg, :]\n",
    "pred = cmap[seg, :]\n",
    "showpoints(point_set, gt, c_pred=pred, waittime=0, showrot=False, magnifyBlue=0, freezerot=False,\n",
    "            background=(255, 255, 255), normalizecolor=True, ballradius=10)"
   ]
  },
  {
   "cell_type": "code",
   "execution_count": 20,
   "metadata": {},
   "outputs": [
    {
     "data": {
      "text/plain": [
       "(array([[ 0.5606077 , -0.20170672,  0.27205136,  0.6131    ,  0.5877    ,\n",
       "         -0.5279    ],\n",
       "        [-0.97924536, -0.00238999, -0.19810769, -0.9647    ,  0.05318   ,\n",
       "         -0.2579    ],\n",
       "        [-0.05963943,  0.3176909 , -0.25163224,  0.02736   ,  0.9462    ,\n",
       "         -0.3223    ],\n",
       "        ...,\n",
       "        [ 0.40093103,  0.16140316,  0.20816076,  0.4113    ,  0.907     ,\n",
       "          0.0902    ],\n",
       "        [-0.94465876,  0.0843557 , -0.11069418, -0.9627    ,  0.06346   ,\n",
       "         -0.2628    ],\n",
       "        [-0.7020539 , -0.16849558, -0.33485946, -0.9122    , -0.4097    ,\n",
       "          0.003455  ]], dtype=float32),\n",
       " array([7], dtype=int32))"
      ]
     },
     "execution_count": 20,
     "metadata": {},
     "output_type": "execute_result"
    }
   ],
   "source": [
    "TRAIN_DATASET[500]"
   ]
  },
  {
   "cell_type": "code",
   "execution_count": 21,
   "metadata": {},
   "outputs": [
    {
     "data": {
      "text/plain": [
       "617"
      ]
     },
     "execution_count": 21,
     "metadata": {},
     "output_type": "execute_result"
    }
   ],
   "source": [
    "trainDataLoader = DataLoader(\n",
    "        TRAIN_DATASET , batch_size=4, \n",
    "        shuffle=True  , num_workers=8)\n",
    " #遍历\n",
    "len(trainDataLoader)"
   ]
  },
  {
   "cell_type": "code",
   "execution_count": 25,
   "metadata": {},
   "outputs": [
    {
     "name": "stdout",
     "output_type": "stream",
     "text": [
      "torch.Size([4, 1024, 6])\n",
      "torch.Size([4, 1])\n"
     ]
    },
    {
     "data": {
      "text/plain": [
       "tensor([[21],\n",
       "        [28],\n",
       "        [38],\n",
       "        [17]], dtype=torch.int32)"
      ]
     },
     "execution_count": 25,
     "metadata": {},
     "output_type": "execute_result"
    }
   ],
   "source": [
    "train_features, train_labels = next(iter(trainDataLoader))\n",
    "print(train_features.shape) \n",
    "print(train_labels.shape) \n",
    "train_labels"
   ]
  },
  {
   "cell_type": "code",
   "execution_count": 7,
   "metadata": {},
   "outputs": [
    {
     "name": "stderr",
     "output_type": "stream",
     "text": [
      "\n",
      "\u001b[A"
     ]
    }
   ],
   "source": [
    "from tqdm import tqdm\n"
   ]
  },
  {
   "cell_type": "code",
   "execution_count": 12,
   "metadata": {},
   "outputs": [
    {
     "name": "stderr",
     "output_type": "stream",
     "text": [
      "  0%|          | 0/227 [00:00<?, ?it/s]"
     ]
    }
   ],
   "source": [
    "trainDataLoader = tqdm(trainDataLoader)"
   ]
  },
  {
   "cell_type": "code",
   "execution_count": 17,
   "metadata": {},
   "outputs": [],
   "source": [
    "from train_cls import *\n",
    "# cfg.num_point = 1024\n",
    "# model = getattr(importlib.import_module('models.{}.model'.format('Hengshuang')), 'PointTransformerCls')(cfg).cuda()"
   ]
  },
  {
   "cell_type": "code",
   "execution_count": 24,
   "metadata": {},
   "outputs": [
    {
     "data": {
      "text/plain": [
       "tensor([2, 4, 2, 8], dtype=torch.int32)"
      ]
     },
     "execution_count": 24,
     "metadata": {},
     "output_type": "execute_result"
    }
   ],
   "source": [
    "target = train_labels[:,0]\n",
    "target"
   ]
  },
  {
   "cell_type": "code",
   "execution_count": 23,
   "metadata": {},
   "outputs": [
    {
     "data": {
      "text/plain": [
       "array([2, 4, 8], dtype=int32)"
      ]
     },
     "execution_count": 23,
     "metadata": {},
     "output_type": "execute_result"
    }
   ],
   "source": [
    "np.unique(target)"
   ]
  },
  {
   "cell_type": "code",
   "execution_count": 25,
   "metadata": {},
   "outputs": [
    {
     "data": {
      "text/plain": [
       "tensor([ True, False,  True, False])"
      ]
     },
     "execution_count": 25,
     "metadata": {},
     "output_type": "execute_result"
    }
   ],
   "source": [
    "target==2"
   ]
  },
  {
   "cell_type": "code",
   "execution_count": 26,
   "metadata": {},
   "outputs": [
    {
     "data": {
      "text/plain": [
       "tensor([ True, False,  True, False])"
      ]
     },
     "execution_count": 26,
     "metadata": {},
     "output_type": "execute_result"
    }
   ],
   "source": [
    "cat_idex = (target==2)\n",
    "cat_idex"
   ]
  },
  {
   "cell_type": "code",
   "execution_count": 27,
   "metadata": {},
   "outputs": [
    {
     "data": {
      "text/plain": [
       "tensor([2, 2])"
      ]
     },
     "execution_count": 27,
     "metadata": {},
     "output_type": "execute_result"
    }
   ],
   "source": [
    "target[cat_idex].long().data"
   ]
  },
  {
   "cell_type": "code",
   "execution_count": 30,
   "metadata": {},
   "outputs": [
    {
     "data": {
      "text/plain": [
       "2"
      ]
     },
     "execution_count": 30,
     "metadata": {},
     "output_type": "execute_result"
    }
   ],
   "source": [
    "cat_idex.sum().item()"
   ]
  },
  {
   "cell_type": "code",
   "execution_count": 35,
   "metadata": {},
   "outputs": [],
   "source": [
    "pred = torch.Tensor([1,2])\n"
   ]
  },
  {
   "cell_type": "code",
   "execution_count": 36,
   "metadata": {},
   "outputs": [
    {
     "data": {
      "text/plain": [
       "tensor([False,  True])"
      ]
     },
     "execution_count": 36,
     "metadata": {},
     "output_type": "execute_result"
    }
   ],
   "source": [
    "pred.eq(target[cat_idex].long().data)"
   ]
  },
  {
   "cell_type": "code",
   "execution_count": 41,
   "metadata": {},
   "outputs": [
    {
     "data": {
      "text/plain": [
       "torch.Size([2, 1024, 6])"
      ]
     },
     "execution_count": 41,
     "metadata": {},
     "output_type": "execute_result"
    }
   ],
   "source": [
    "train_features[target==2].size()"
   ]
  },
  {
   "cell_type": "code",
   "execution_count": 40,
   "metadata": {},
   "outputs": [
    {
     "data": {
      "text/plain": [
       "2"
      ]
     },
     "execution_count": 40,
     "metadata": {},
     "output_type": "execute_result"
    }
   ],
   "source": [
    "train_features[target==2].size()[0]"
   ]
  },
  {
   "cell_type": "code",
   "execution_count": null,
   "metadata": {},
   "outputs": [],
   "source": [
    "import random\n",
    "import math\n",
    "import matplotlib.pyplot as plt\n",
    "\n",
    "M = 50 # 所有的点数量\n",
    "N = 10 # fps采样点数量\n",
    "x = []\n",
    "y = []\n",
    "xy = []\n",
    "\n",
    "# 生成数据\n",
    "random.seed(0)\n",
    "for _ in range(M):\n",
    "    px = round(random.uniform(1, 10), 2)  # 生成随机数，浮点类型 控制2位精度\n",
    "    py = round(random.uniform(1, 10), 2)\n",
    "    x.append(px)\n",
    "    y.append(py)\n",
    "    xy.append((px, py))\n",
    "\n",
    "xy"
   ]
  },
  {
   "cell_type": "code",
   "execution_count": null,
   "metadata": {},
   "outputs": [],
   "source": [
    "plt.figure(figsize=(10, 4))\n",
    "plt.subplot(121)\n",
    "plt.title('init_points')\n",
    "plt.scatter(x, y, marker='o', c='r', edgecolors='b', s=200)"
   ]
  },
  {
   "cell_type": "code",
   "execution_count": null,
   "metadata": {},
   "outputs": [],
   "source": [
    "select = []\n",
    "rest = [num for num in range(0, M)]\n",
    "max_dist = -99999\n",
    "farthest_point = 99999"
   ]
  },
  {
   "cell_type": "code",
   "execution_count": null,
   "metadata": {},
   "outputs": [],
   "source": [
    "# step 1 随机选择一个点\n",
    "random.seed(1)\n",
    "ind = random.randint(0, M - 1)\n",
    "\n",
    "select.append(ind)\n",
    "rest.remove(ind)\n",
    "# print('select', select)\n",
    "# print('rest', rest)"
   ]
  },
  {
   "cell_type": "code",
   "execution_count": 17,
   "metadata": {},
   "outputs": [
    {
     "name": "stdout",
     "output_type": "stream",
     "text": [
      "[1. 2. 3. 4. 5. 6.]\n",
      "tensor(1.)\n"
     ]
    },
    {
     "data": {
      "text/plain": [
       "tensor([6., 8.])"
      ]
     },
     "execution_count": 17,
     "metadata": {},
     "output_type": "execute_result"
    }
   ],
   "source": [
    "import numpy as np\n",
    "import torch\n",
    "a=torch.Tensor([1,2,3,4,5,6,6])\n",
    "b=torch.Tensor([1,2,2,2,5,6,8])\n",
    "print(np.unique(a))\n",
    "print((a==6).sum()/2)\n",
    "b[a==6]"
   ]
  },
  {
   "cell_type": "markdown",
   "metadata": {},
   "source": []
  },
  {
   "cell_type": "markdown",
   "metadata": {},
   "source": []
  },
  {
   "cell_type": "code",
   "execution_count": 1,
   "metadata": {},
   "outputs": [
    {
     "name": "stdout",
     "output_type": "stream",
     "text": [
      "2\n",
      "('weight', Parameter containing:\n",
      "tensor([[-0.5754,  0.5086, -0.4083],\n",
      "        [ 0.4169,  0.0558,  0.4164],\n",
      "        [-0.3582, -0.0306,  0.1457],\n",
      "        [ 0.1982, -0.2772,  0.3499],\n",
      "        [ 0.2818,  0.4288,  0.0650]], requires_grad=True))\n",
      "('bias', Parameter containing:\n",
      "tensor([ 0.1805, -0.2897, -0.5245,  0.5769, -0.3859], requires_grad=True))\n"
     ]
    }
   ],
   "source": [
    "import torch\n",
    "\n",
    "fc = torch.nn.Linear(3, 5)\n",
    "params = list(fc.named_parameters())\n",
    "print(params.__len__())\n",
    "print(params[0])\n",
    "print(params[1])"
   ]
  },
  {
   "cell_type": "code",
   "execution_count": 3,
   "metadata": {},
   "outputs": [
    {
     "name": "stdout",
     "output_type": "stream",
     "text": [
      "8\n",
      "('1.weight', Parameter containing:\n",
      "tensor([[ 0.0292,  0.0305,  0.0092,  ...,  0.0144,  0.0078, -0.0016],\n",
      "        [-0.0066,  0.0309,  0.0013,  ...,  0.0225, -0.0079,  0.0265],\n",
      "        [ 0.0103, -0.0150, -0.0131,  ..., -0.0169,  0.0047, -0.0160],\n",
      "        ...,\n",
      "        [-0.0130, -0.0046, -0.0248,  ..., -0.0183, -0.0054, -0.0208],\n",
      "        [ 0.0249, -0.0305,  0.0288,  ...,  0.0077,  0.0029, -0.0243],\n",
      "        [ 0.0132,  0.0310,  0.0038,  ..., -0.0278, -0.0055,  0.0221]],\n",
      "       requires_grad=True))\n",
      "('1.bias', Parameter containing:\n",
      "tensor([ 9.8564e-04,  1.1425e-02,  2.7055e-03, -2.9118e-02,  3.2956e-03,\n",
      "        -9.0277e-03, -3.0123e-03, -3.3727e-03, -2.2414e-02,  1.7847e-02,\n",
      "         1.6348e-02, -1.2228e-02,  3.5869e-03, -2.1708e-02,  2.6500e-03,\n",
      "         2.4879e-02,  2.2134e-02,  2.7580e-02,  2.2203e-02, -2.8633e-02,\n",
      "         2.0920e-03, -1.6087e-02,  1.6634e-02,  2.1290e-02, -1.1951e-03,\n",
      "        -3.0302e-02,  2.0438e-02,  2.8376e-02, -2.3913e-02,  9.7344e-04,\n",
      "         2.6216e-02,  2.2986e-02,  2.8823e-02,  1.5441e-02, -1.0810e-02,\n",
      "        -3.0933e-02, -2.6645e-02,  2.6959e-02,  2.6948e-02,  2.0938e-02,\n",
      "         6.1389e-03, -9.5179e-03,  1.1137e-02,  1.7250e-02,  1.5262e-02,\n",
      "        -2.0157e-02, -2.4414e-02,  1.5690e-02,  6.3148e-03,  3.1169e-02,\n",
      "        -1.1944e-02, -2.7501e-02, -8.7526e-03,  1.0989e-02,  1.7147e-02,\n",
      "        -1.8968e-02,  2.9991e-02,  8.0454e-03, -5.2553e-03, -1.1514e-02,\n",
      "        -1.0245e-02,  2.1396e-02, -2.5199e-02,  7.1801e-03, -1.4528e-02,\n",
      "        -2.9509e-02, -2.0260e-02, -6.0112e-03, -1.2426e-02, -8.6356e-05,\n",
      "         5.2291e-04, -2.7968e-02, -2.3850e-02,  7.2130e-03,  3.0282e-02,\n",
      "         1.4024e-02,  2.6049e-02, -2.2035e-02, -3.3049e-03, -1.3473e-02,\n",
      "        -2.5869e-02, -1.8319e-02,  1.9462e-02,  2.5426e-02, -2.9106e-02,\n",
      "         1.0938e-02,  1.2111e-02,  1.1293e-02,  2.5147e-03, -1.0989e-02,\n",
      "        -6.3685e-03,  9.3242e-03,  6.6113e-03, -1.9556e-02,  3.2682e-03,\n",
      "        -2.0424e-02,  2.9740e-02, -2.5796e-02,  6.5699e-03, -1.9102e-02,\n",
      "         1.8145e-02, -1.8891e-02, -2.0152e-02, -2.1852e-02,  2.3925e-02,\n",
      "        -2.9300e-02,  2.4067e-02,  3.5829e-03,  1.1577e-02,  1.1899e-02,\n",
      "        -1.4971e-02, -1.0458e-03, -2.0685e-02,  2.6092e-02,  9.1313e-03,\n",
      "         1.1565e-02,  8.1481e-03,  2.3553e-02, -2.0681e-02, -2.6916e-02,\n",
      "         2.1327e-02, -1.2764e-02,  1.3929e-02, -2.9718e-02, -9.3720e-03,\n",
      "        -1.2905e-02,  2.1059e-02,  3.4906e-04,  1.5862e-02,  9.3099e-04,\n",
      "         1.3893e-02,  1.1536e-02,  2.1411e-02,  2.4513e-02, -5.6245e-03,\n",
      "        -2.1903e-02,  7.9875e-03, -2.8979e-02, -1.6377e-02,  2.8335e-02,\n",
      "         1.4892e-02,  1.2230e-02, -8.2476e-03, -1.5844e-02, -1.9807e-02,\n",
      "         9.7835e-03,  5.2024e-03,  2.2407e-02, -1.7464e-03,  1.0790e-02,\n",
      "         2.4938e-02,  2.3950e-02, -2.7278e-02, -1.7217e-02,  6.2344e-04,\n",
      "        -1.5602e-02, -2.1098e-02,  6.2188e-03,  1.3354e-02,  1.2154e-02,\n",
      "        -2.9497e-02,  1.6177e-02, -2.8858e-02,  1.5466e-02, -2.6580e-02,\n",
      "        -5.7154e-03, -2.9812e-02,  5.2288e-04, -2.3787e-02, -2.5785e-02,\n",
      "        -2.0359e-03, -4.9441e-03, -2.9645e-02,  1.4873e-02,  2.7854e-02,\n",
      "        -1.0009e-02, -2.7193e-02, -7.8641e-03,  1.9603e-02, -2.4594e-02,\n",
      "        -2.8805e-02,  1.1211e-02,  1.5642e-02, -1.4061e-03,  2.3565e-02,\n",
      "         1.2398e-02, -1.3792e-03, -6.7768e-03,  1.8696e-03, -5.8731e-03,\n",
      "        -2.1309e-02, -1.9943e-02, -1.9291e-02,  1.0893e-02,  2.4472e-02,\n",
      "        -4.4439e-03, -9.9784e-03, -2.9490e-02,  8.9926e-03,  2.4223e-02,\n",
      "        -8.7227e-03,  2.9670e-02, -9.4419e-03,  5.8305e-03, -4.8886e-03,\n",
      "         2.9240e-02, -1.7393e-02,  5.4700e-03, -1.4706e-02,  2.2793e-02,\n",
      "         5.1644e-03,  2.5131e-04, -1.1316e-02,  1.0712e-02, -1.0963e-02,\n",
      "         1.0042e-03, -8.2553e-03, -2.9203e-02, -8.8189e-03,  2.4269e-04,\n",
      "        -1.6409e-02,  2.0507e-02, -1.0693e-02, -1.0790e-02,  5.4125e-03,\n",
      "         2.3444e-02,  1.7969e-02,  1.2669e-02, -1.0701e-02, -2.8479e-03,\n",
      "        -6.4999e-03,  1.3226e-02,  8.6331e-03, -1.8685e-02,  2.8539e-02,\n",
      "         2.9389e-02, -4.3038e-03, -2.1577e-02, -2.1263e-02,  2.3552e-02,\n",
      "         2.1865e-02,  1.2991e-02,  7.9558e-03, -2.4890e-02,  1.4434e-02,\n",
      "        -2.2118e-02, -2.9230e-02, -8.0809e-05, -4.8119e-03,  1.8324e-02,\n",
      "        -3.0748e-02, -1.7905e-02,  1.9550e-02,  2.8139e-03,  2.4159e-02,\n",
      "         1.5023e-02], requires_grad=True))\n",
      "('2.weight', Parameter containing:\n",
      "tensor([[-0.0409, -0.0510, -0.0201,  ...,  0.0365, -0.0252,  0.0351],\n",
      "        [ 0.0443,  0.0560,  0.0335,  ...,  0.0249, -0.0018, -0.0025],\n",
      "        [-0.0441,  0.0526, -0.0559,  ...,  0.0030,  0.0561,  0.0156],\n",
      "        ...,\n",
      "        [-0.0578, -0.0258,  0.0441,  ...,  0.0277, -0.0042,  0.0210],\n",
      "        [ 0.0105, -0.0188,  0.0114,  ...,  0.0061, -0.0494,  0.0383],\n",
      "        [-0.0495,  0.0154, -0.0099,  ..., -0.0617, -0.0618,  0.0453]],\n",
      "       requires_grad=True))\n",
      "('2.bias', Parameter containing:\n",
      "tensor([-0.0297,  0.0563,  0.0617, -0.0179, -0.0161, -0.0489, -0.0619, -0.0184,\n",
      "         0.0067, -0.0144, -0.0022,  0.0211, -0.0562,  0.0039, -0.0414,  0.0095,\n",
      "         0.0439, -0.0050, -0.0244,  0.0259,  0.0091, -0.0074, -0.0414, -0.0100,\n",
      "         0.0533,  0.0560,  0.0574,  0.0473, -0.0405, -0.0012,  0.0579,  0.0110,\n",
      "        -0.0362, -0.0600, -0.0066, -0.0130, -0.0105,  0.0451, -0.0560,  0.0363,\n",
      "         0.0377,  0.0505, -0.0391,  0.0460,  0.0344, -0.0335, -0.0536,  0.0593,\n",
      "         0.0551, -0.0460, -0.0150, -0.0325, -0.0214, -0.0377, -0.0561, -0.0518,\n",
      "        -0.0087, -0.0119,  0.0548, -0.0523, -0.0092,  0.0189, -0.0268,  0.0073],\n",
      "       requires_grad=True))\n"
     ]
    }
   ],
   "source": [
    "import torch.nn as nn\n",
    "mlp = torch.nn.Sequential(\n",
    "            nn.Dropout(p=0.3),\n",
    "            nn.Linear(1024, 256),\n",
    "            nn.Linear(256, 64),\n",
    "            nn.Linear(64, 16),\n",
    "            nn.Linear(16, 1)\n",
    "        )\n",
    "params = list(mlp.named_parameters())\n",
    "print(params.__len__())\n",
    "\n",
    "print(params[0])\n",
    "print(params[1])\n",
    "\n",
    "print(params[2])\n",
    "print(params[3])"
   ]
  },
  {
   "cell_type": "code",
   "execution_count": 4,
   "metadata": {},
   "outputs": [],
   "source": [
    "import torchvision.models as models"
   ]
  },
  {
   "cell_type": "code",
   "execution_count": 5,
   "metadata": {},
   "outputs": [
    {
     "data": {
      "text/plain": [
       "['alexnet',\n",
       " 'densenet121',\n",
       " 'densenet161',\n",
       " 'densenet169',\n",
       " 'densenet201',\n",
       " 'googlenet',\n",
       " 'inception_v3',\n",
       " 'mnasnet0_5',\n",
       " 'mnasnet0_75',\n",
       " 'mnasnet1_0',\n",
       " 'mnasnet1_3',\n",
       " 'mobilenet_v2',\n",
       " 'resnet101',\n",
       " 'resnet152',\n",
       " 'resnet18',\n",
       " 'resnet34',\n",
       " 'resnet50',\n",
       " 'resnext101_32x8d',\n",
       " 'resnext50_32x4d',\n",
       " 'shufflenet_v2_x0_5',\n",
       " 'shufflenet_v2_x1_0',\n",
       " 'shufflenet_v2_x1_5',\n",
       " 'shufflenet_v2_x2_0',\n",
       " 'squeezenet1_0',\n",
       " 'squeezenet1_1',\n",
       " 'vgg11',\n",
       " 'vgg11_bn',\n",
       " 'vgg13',\n",
       " 'vgg13_bn',\n",
       " 'vgg16',\n",
       " 'vgg16_bn',\n",
       " 'vgg19',\n",
       " 'vgg19_bn',\n",
       " 'wide_resnet101_2',\n",
       " 'wide_resnet50_2']"
      ]
     },
     "execution_count": 5,
     "metadata": {},
     "output_type": "execute_result"
    }
   ],
   "source": [
    "model_names = sorted(name for name in models.__dict__\n",
    "                     if name.islower() and not name.startswith(\"__\")\n",
    "                     and callable(models.__dict__[name]))\n",
    "model_names"
   ]
  },
  {
   "cell_type": "code",
   "execution_count": 6,
   "metadata": {},
   "outputs": [
    {
     "data": {
      "text/plain": [
       "8005"
      ]
     },
     "execution_count": 6,
     "metadata": {},
     "output_type": "execute_result"
    }
   ],
   "source": [
    "torch.backends.cudnn.version()"
   ]
  },
  {
   "cell_type": "code",
   "execution_count": 7,
   "metadata": {},
   "outputs": [
    {
     "data": {
      "text/plain": [
       "True"
      ]
     },
     "execution_count": 7,
     "metadata": {},
     "output_type": "execute_result"
    }
   ],
   "source": [
    "torch.backends.cudnn.enabled"
   ]
  },
  {
   "cell_type": "code",
   "execution_count": null,
   "metadata": {},
   "outputs": [],
   "source": [
    "# print(os.getcwd())\n",
    "# print(__file__)\n",
    "# raise NotImplementedError()"
   ]
  }
 ],
 "metadata": {
  "interpreter": {
   "hash": "fcfe3673355d51ce39fcd143ee448a2c2a62ce3d4935bb32670db7a58e7efd78"
  },
  "kernelspec": {
   "display_name": "Python 3.7.11 64-bit ('mm': conda)",
   "language": "python",
   "name": "python3"
  },
  "language_info": {
   "codemirror_mode": {
    "name": "ipython",
    "version": 3
   },
   "file_extension": ".py",
   "mimetype": "text/x-python",
   "name": "python",
   "nbconvert_exporter": "python",
   "pygments_lexer": "ipython3",
   "version": "3.7.11"
  },
  "orig_nbformat": 4
 },
 "nbformat": 4,
 "nbformat_minor": 2
}
