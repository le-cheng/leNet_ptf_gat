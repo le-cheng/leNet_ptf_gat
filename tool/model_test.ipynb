{
 "cells": [
  {
   "cell_type": "code",
   "execution_count": 1,
   "metadata": {},
   "outputs": [],
   "source": [
    "import torch\n",
    "import torch.nn as nn\n",
    "import torch.nn.functional as F\n",
    "\n",
    "class double_conv2d_bn(nn.Module):\n",
    "    def __init__(self,in_channels,out_channels,kernel_size=3,strides=1,padding=1):\n",
    "        super(double_conv2d_bn,self).__init__()\n",
    "        self.conv1 = nn.Conv2d(in_channels,out_channels,\n",
    "                               kernel_size=kernel_size,\n",
    "                              stride = strides,padding=padding,bias=True)\n",
    "        self.conv2 = nn.Conv2d(out_channels,out_channels,\n",
    "                              kernel_size = kernel_size,\n",
    "                              stride = strides,padding=padding,bias=True)\n",
    "        self.bn1 = nn.BatchNorm2d(out_channels)\n",
    "        self.bn2 = nn.BatchNorm2d(out_channels)\n",
    "    \n",
    "    def forward(self,x):\n",
    "        out = F.relu(self.bn1(self.conv1(x)))\n",
    "        out = F.relu(self.bn2(self.conv2(out)))\n",
    "        return out\n",
    "    \n",
    "class deconv2d_bn(nn.Module):\n",
    "    def __init__(self,in_channels,out_channels,kernel_size=2,strides=2):\n",
    "        super(deconv2d_bn,self).__init__()\n",
    "        self.conv1 = nn.ConvTranspose2d(in_channels,out_channels,\n",
    "                                        kernel_size = kernel_size,\n",
    "                                       stride = strides,bias=True)\n",
    "        self.bn1 = nn.BatchNorm2d(out_channels)\n",
    "        \n",
    "    def forward(self,x):\n",
    "        out = F.relu(self.bn1(self.conv1(x)))\n",
    "        return out\n",
    "    \n",
    "class Unet(nn.Module):\n",
    "    def __init__(self):\n",
    "        super(Unet,self).__init__()\n",
    "        self.layer1_conv = double_conv2d_bn(1,8)\n",
    "        self.layer2_conv = double_conv2d_bn(8,16)\n",
    "        self.layer3_conv = double_conv2d_bn(16,32)\n",
    "        self.layer4_conv = double_conv2d_bn(32,64)\n",
    "        self.layer5_conv = double_conv2d_bn(64,128)\n",
    "        self.layer6_conv = double_conv2d_bn(128,64)\n",
    "        self.layer7_conv = double_conv2d_bn(64,32)\n",
    "        self.layer8_conv = double_conv2d_bn(32,16)\n",
    "        self.layer9_conv = double_conv2d_bn(16,8)\n",
    "        self.layer10_conv = nn.Conv2d(8,1,kernel_size=3,\n",
    "                                     stride=1,padding=1,bias=True)\n",
    "        \n",
    "        self.deconv1 = deconv2d_bn(128,64)\n",
    "        self.deconv2 = deconv2d_bn(64,32)\n",
    "        self.deconv3 = deconv2d_bn(32,16)\n",
    "        self.deconv4 = deconv2d_bn(16,8)\n",
    "        \n",
    "        self.sigmoid = nn.Sigmoid()\n",
    "        \n",
    "    def forward(self,x):\n",
    "        conv1 = self.layer1_conv(x)\n",
    "        pool1 = F.max_pool2d(conv1,2)\n",
    "        \n",
    "        conv2 = self.layer2_conv(pool1)\n",
    "        pool2 = F.max_pool2d(conv2,2)\n",
    "        \n",
    "        conv3 = self.layer3_conv(pool2)\n",
    "        pool3 = F.max_pool2d(conv3,2)\n",
    "        \n",
    "        conv4 = self.layer4_conv(pool3)\n",
    "        pool4 = F.max_pool2d(conv4,2)\n",
    "        \n",
    "        conv5 = self.layer5_conv(pool4)\n",
    "        \n",
    "        convt1 = self.deconv1(conv5)\n",
    "        concat1 = torch.cat([convt1,conv4],dim=1)\n",
    "        conv6 = self.layer6_conv(concat1)\n",
    "        \n",
    "        convt2 = self.deconv2(conv6)\n",
    "        concat2 = torch.cat([convt2,conv3],dim=1)\n",
    "        conv7 = self.layer7_conv(concat2)\n",
    "        \n",
    "        convt3 = self.deconv3(conv7)\n",
    "        concat3 = torch.cat([convt3,conv2],dim=1)\n",
    "        conv8 = self.layer8_conv(concat3)\n",
    "        \n",
    "        convt4 = self.deconv4(conv8)\n",
    "        concat4 = torch.cat([convt4,conv1],dim=1)\n",
    "        conv9 = self.layer9_conv(concat4)\n",
    "        outp = self.layer10_conv(conv9)\n",
    "        outp = self.sigmoid(outp)\n",
    "        return outp"
   ]
  },
  {
   "cell_type": "code",
   "execution_count": 2,
   "metadata": {},
   "outputs": [
    {
     "name": "stdout",
     "output_type": "stream",
     "text": [
      "torch.Size([10, 1, 224, 224])\n"
     ]
    }
   ],
   "source": [
    "model = Unet()\n",
    "inp = torch.rand(10,1,224,224)\n",
    "outp = model(inp)\n",
    "print(outp.shape)\n",
    "# ==> torch.Size([10, 1, 224, 224])"
   ]
  }
 ],
 "metadata": {
  "interpreter": {
   "hash": "fcfe3673355d51ce39fcd143ee448a2c2a62ce3d4935bb32670db7a58e7efd78"
  },
  "kernelspec": {
   "display_name": "Python 3.7.11 64-bit ('mm': conda)",
   "language": "python",
   "name": "python3"
  },
  "language_info": {
   "codemirror_mode": {
    "name": "ipython",
    "version": 3
   },
   "file_extension": ".py",
   "mimetype": "text/x-python",
   "name": "python",
   "nbconvert_exporter": "python",
   "pygments_lexer": "ipython3",
   "version": "3.7.11"
  },
  "orig_nbformat": 4
 },
 "nbformat": 4,
 "nbformat_minor": 2
}
